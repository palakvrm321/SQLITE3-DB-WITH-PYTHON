{
 "cells": [
  {
   "cell_type": "code",
   "execution_count": 13,
   "id": "1a9308f2-5671-464a-91ee-431e461c8224",
   "metadata": {},
   "outputs": [],
   "source": [
    "import sqlite3\n",
    "import pandas as pd\n",
    "import matplotlib.pyplot as plt\n"
   ]
  },
  {
   "cell_type": "code",
   "execution_count": 14,
   "id": "4c64c2aa-a6af-49de-a0de-fbfad9c841be",
   "metadata": {},
   "outputs": [
    {
     "data": {
      "text/html": [
       "<div>\n",
       "<style scoped>\n",
       "    .dataframe tbody tr th:only-of-type {\n",
       "        vertical-align: middle;\n",
       "    }\n",
       "\n",
       "    .dataframe tbody tr th {\n",
       "        vertical-align: top;\n",
       "    }\n",
       "\n",
       "    .dataframe thead th {\n",
       "        text-align: right;\n",
       "    }\n",
       "</style>\n",
       "<table border=\"1\" class=\"dataframe\">\n",
       "  <thead>\n",
       "    <tr style=\"text-align: right;\">\n",
       "      <th></th>\n",
       "      <th>Order ID</th>\n",
       "      <th>Amount</th>\n",
       "      <th>Profit</th>\n",
       "      <th>Quantity</th>\n",
       "      <th>Category</th>\n",
       "      <th>Sub-Category</th>\n",
       "      <th>PaymentMode</th>\n",
       "      <th>Order Date</th>\n",
       "      <th>CustomerName</th>\n",
       "      <th>State</th>\n",
       "      <th>City</th>\n",
       "      <th>Year-Month</th>\n",
       "    </tr>\n",
       "  </thead>\n",
       "  <tbody>\n",
       "    <tr>\n",
       "      <th>0</th>\n",
       "      <td>B-26776</td>\n",
       "      <td>9726</td>\n",
       "      <td>1275</td>\n",
       "      <td>5</td>\n",
       "      <td>Electronics</td>\n",
       "      <td>Electronic Games</td>\n",
       "      <td>UPI</td>\n",
       "      <td>2023-06-27</td>\n",
       "      <td>David Padilla</td>\n",
       "      <td>Florida</td>\n",
       "      <td>Miami</td>\n",
       "      <td>2023-06</td>\n",
       "    </tr>\n",
       "    <tr>\n",
       "      <th>1</th>\n",
       "      <td>B-26776</td>\n",
       "      <td>9726</td>\n",
       "      <td>1275</td>\n",
       "      <td>5</td>\n",
       "      <td>Electronics</td>\n",
       "      <td>Electronic Games</td>\n",
       "      <td>UPI</td>\n",
       "      <td>2024-12-27</td>\n",
       "      <td>Connor Morgan</td>\n",
       "      <td>Illinois</td>\n",
       "      <td>Chicago</td>\n",
       "      <td>2024-12</td>\n",
       "    </tr>\n",
       "    <tr>\n",
       "      <th>2</th>\n",
       "      <td>B-26776</td>\n",
       "      <td>9726</td>\n",
       "      <td>1275</td>\n",
       "      <td>5</td>\n",
       "      <td>Electronics</td>\n",
       "      <td>Electronic Games</td>\n",
       "      <td>UPI</td>\n",
       "      <td>2021-07-25</td>\n",
       "      <td>Robert Stone</td>\n",
       "      <td>New York</td>\n",
       "      <td>Buffalo</td>\n",
       "      <td>2021-07</td>\n",
       "    </tr>\n",
       "    <tr>\n",
       "      <th>3</th>\n",
       "      <td>B-26776</td>\n",
       "      <td>4975</td>\n",
       "      <td>1330</td>\n",
       "      <td>14</td>\n",
       "      <td>Electronics</td>\n",
       "      <td>Printers</td>\n",
       "      <td>UPI</td>\n",
       "      <td>2023-06-27</td>\n",
       "      <td>David Padilla</td>\n",
       "      <td>Florida</td>\n",
       "      <td>Miami</td>\n",
       "      <td>2023-06</td>\n",
       "    </tr>\n",
       "    <tr>\n",
       "      <th>4</th>\n",
       "      <td>B-26776</td>\n",
       "      <td>4975</td>\n",
       "      <td>1330</td>\n",
       "      <td>14</td>\n",
       "      <td>Electronics</td>\n",
       "      <td>Printers</td>\n",
       "      <td>UPI</td>\n",
       "      <td>2024-12-27</td>\n",
       "      <td>Connor Morgan</td>\n",
       "      <td>Illinois</td>\n",
       "      <td>Chicago</td>\n",
       "      <td>2024-12</td>\n",
       "    </tr>\n",
       "    <tr>\n",
       "      <th>...</th>\n",
       "      <td>...</td>\n",
       "      <td>...</td>\n",
       "      <td>...</td>\n",
       "      <td>...</td>\n",
       "      <td>...</td>\n",
       "      <td>...</td>\n",
       "      <td>...</td>\n",
       "      <td>...</td>\n",
       "      <td>...</td>\n",
       "      <td>...</td>\n",
       "      <td>...</td>\n",
       "      <td>...</td>\n",
       "    </tr>\n",
       "    <tr>\n",
       "      <th>1189</th>\n",
       "      <td>B-26370</td>\n",
       "      <td>8825</td>\n",
       "      <td>3594</td>\n",
       "      <td>15</td>\n",
       "      <td>Furniture</td>\n",
       "      <td>Tables</td>\n",
       "      <td>Debit Card</td>\n",
       "      <td>2024-07-31</td>\n",
       "      <td>Megan Mclean</td>\n",
       "      <td>New York</td>\n",
       "      <td>New York City</td>\n",
       "      <td>2024-07</td>\n",
       "    </tr>\n",
       "    <tr>\n",
       "      <th>1190</th>\n",
       "      <td>B-26298</td>\n",
       "      <td>2082</td>\n",
       "      <td>642</td>\n",
       "      <td>8</td>\n",
       "      <td>Electronics</td>\n",
       "      <td>Phones</td>\n",
       "      <td>EMI</td>\n",
       "      <td>2020-06-02</td>\n",
       "      <td>Caitlin Hunt</td>\n",
       "      <td>New York</td>\n",
       "      <td>Rochester</td>\n",
       "      <td>2020-06</td>\n",
       "    </tr>\n",
       "    <tr>\n",
       "      <th>1191</th>\n",
       "      <td>B-26298</td>\n",
       "      <td>2082</td>\n",
       "      <td>642</td>\n",
       "      <td>8</td>\n",
       "      <td>Electronics</td>\n",
       "      <td>Phones</td>\n",
       "      <td>EMI</td>\n",
       "      <td>2022-12-15</td>\n",
       "      <td>Jenna Holland</td>\n",
       "      <td>Texas</td>\n",
       "      <td>Austin</td>\n",
       "      <td>2022-12</td>\n",
       "    </tr>\n",
       "    <tr>\n",
       "      <th>1192</th>\n",
       "      <td>B-26298</td>\n",
       "      <td>2082</td>\n",
       "      <td>642</td>\n",
       "      <td>8</td>\n",
       "      <td>Electronics</td>\n",
       "      <td>Phones</td>\n",
       "      <td>EMI</td>\n",
       "      <td>2020-08-07</td>\n",
       "      <td>Stephanie Oconnell</td>\n",
       "      <td>New York</td>\n",
       "      <td>Buffalo</td>\n",
       "      <td>2020-08</td>\n",
       "    </tr>\n",
       "    <tr>\n",
       "      <th>1193</th>\n",
       "      <td>B-25068</td>\n",
       "      <td>914</td>\n",
       "      <td>163</td>\n",
       "      <td>13</td>\n",
       "      <td>Office Supplies</td>\n",
       "      <td>Markers</td>\n",
       "      <td>UPI</td>\n",
       "      <td>2024-10-26</td>\n",
       "      <td>Andrea Hill</td>\n",
       "      <td>Illinois</td>\n",
       "      <td>Chicago</td>\n",
       "      <td>2024-10</td>\n",
       "    </tr>\n",
       "  </tbody>\n",
       "</table>\n",
       "<p>1194 rows × 12 columns</p>\n",
       "</div>"
      ],
      "text/plain": [
       "     Order ID  Amount  Profit  Quantity         Category      Sub-Category  \\\n",
       "0     B-26776    9726    1275         5      Electronics  Electronic Games   \n",
       "1     B-26776    9726    1275         5      Electronics  Electronic Games   \n",
       "2     B-26776    9726    1275         5      Electronics  Electronic Games   \n",
       "3     B-26776    4975    1330        14      Electronics          Printers   \n",
       "4     B-26776    4975    1330        14      Electronics          Printers   \n",
       "...       ...     ...     ...       ...              ...               ...   \n",
       "1189  B-26370    8825    3594        15        Furniture            Tables   \n",
       "1190  B-26298    2082     642         8      Electronics            Phones   \n",
       "1191  B-26298    2082     642         8      Electronics            Phones   \n",
       "1192  B-26298    2082     642         8      Electronics            Phones   \n",
       "1193  B-25068     914     163        13  Office Supplies           Markers   \n",
       "\n",
       "     PaymentMode  Order Date        CustomerName     State           City  \\\n",
       "0            UPI  2023-06-27       David Padilla   Florida          Miami   \n",
       "1            UPI  2024-12-27       Connor Morgan  Illinois        Chicago   \n",
       "2            UPI  2021-07-25        Robert Stone  New York        Buffalo   \n",
       "3            UPI  2023-06-27       David Padilla   Florida          Miami   \n",
       "4            UPI  2024-12-27       Connor Morgan  Illinois        Chicago   \n",
       "...          ...         ...                 ...       ...            ...   \n",
       "1189  Debit Card  2024-07-31        Megan Mclean  New York  New York City   \n",
       "1190         EMI  2020-06-02        Caitlin Hunt  New York      Rochester   \n",
       "1191         EMI  2022-12-15       Jenna Holland     Texas         Austin   \n",
       "1192         EMI  2020-08-07  Stephanie Oconnell  New York        Buffalo   \n",
       "1193         UPI  2024-10-26         Andrea Hill  Illinois        Chicago   \n",
       "\n",
       "     Year-Month  \n",
       "0       2023-06  \n",
       "1       2024-12  \n",
       "2       2021-07  \n",
       "3       2023-06  \n",
       "4       2024-12  \n",
       "...         ...  \n",
       "1189    2024-07  \n",
       "1190    2020-06  \n",
       "1191    2022-12  \n",
       "1192    2020-08  \n",
       "1193    2024-10  \n",
       "\n",
       "[1194 rows x 12 columns]"
      ]
     },
     "execution_count": 14,
     "metadata": {},
     "output_type": "execute_result"
    }
   ],
   "source": [
    "df=pd.read_csv(r\"C:\\Users\\palak\\Downloads\\Sales Dataset.csv\")\n",
    "df"
   ]
  },
  {
   "cell_type": "markdown",
   "id": "49fd5d9d-87e6-4a19-aa0f-89fd45d8ac86",
   "metadata": {},
   "source": [
    "conn=sqlite3.connect(\"sales_data.db\")\n",
    "df.to_sql(\"Sales_Data\",conn,if_exists=\"replace\",index=False)"
   ]
  },
  {
   "cell_type": "markdown",
   "id": "cb8a596c-966c-4110-84c2-47720d7fe0d1",
   "metadata": {},
   "source": [
    "FIND THE TOTAL SALES ON THE BASIS OF CATEGORY"
   ]
  },
  {
   "cell_type": "markdown",
   "id": "7675793a-e15d-44ad-802c-10af7ea6fe42",
   "metadata": {},
   "source": [
    "query1= \"\"\" \n",
    "Select `order Id`,CustomerName,category,sum(quantity) as \"total_Qty\",sum(amount) as \"Revenue\" from Sales_Data group by Category\n",
    "\"\"\"\n",
    "print(pd.read_sql_query(query1,conn))\n"
   ]
  },
  {
   "cell_type": "markdown",
   "id": "b2a5c215-2792-49f9-b08f-f13327e1860d",
   "metadata": {},
   "source": [
    "TOP 5 CUSTOMER BY SALES "
   ]
  },
  {
   "cell_type": "markdown",
   "id": "10538446-475e-4c1b-884c-fa87c6949cb5",
   "metadata": {},
   "source": [
    "query2= \"\"\" SELECT CustomerName, SUM(Amount) AS \"Total_Sales\"\n",
    "FROM Sales_Data\n",
    "GROUP BY CustomerName\n",
    "ORDER BY Total_Sales DESC\n",
    "LIMIT 5;\n",
    "\"\"\"\n",
    "print(pd.read_sql_query(query2,conn))"
   ]
  },
  {
   "cell_type": "markdown",
   "id": "375dc20b-0acb-46fb-9759-832701e75241",
   "metadata": {},
   "source": [
    "HIGHEST PROFIT ORDER "
   ]
  },
  {
   "cell_type": "code",
   "execution_count": 26,
   "id": "7098ea66-112d-4ae8-940a-2583ca601367",
   "metadata": {},
   "outputs": [
    {
     "name": "stdout",
     "output_type": "stream",
     "text": [
      "  Order ID    CustomerName  Amount  Profit     Category\n",
      "0  B-26357  Brandi Vasquez    9879    4930  Electronics\n"
     ]
    }
   ],
   "source": [
    "query3= \"\"\" SELECT `Order ID`, CustomerName, Amount, Profit, Category\n",
    "FROM Sales_Data\n",
    "ORDER BY Profit DESC\n",
    "LIMIT 1 \"\"\"\n",
    "\n",
    "print(pd.read_sql_query(query3,conn))"
   ]
  },
  {
   "cell_type": "markdown",
   "id": "6188c67b-3470-4f70-8c91-86716aaa8242",
   "metadata": {},
   "source": [
    "AVERAGE ORDER VALUE"
   ]
  },
  {
   "cell_type": "code",
   "execution_count": 32,
   "id": "2941fbc6-b820-46d4-bafc-6061966fa36a",
   "metadata": {},
   "outputs": [
    {
     "name": "stdout",
     "output_type": "stream",
     "text": [
      "   Avg_Order_Value\n",
      "0      5178.089615\n"
     ]
    }
   ],
   "source": [
    "query4=\"\"\" SELECT AVG(Amount) AS Avg_Order_Value\n",
    "FROM Sales_data\"\"\"\n",
    "print(pd.read_sql_query(query4,conn))"
   ]
  },
  {
   "cell_type": "markdown",
   "id": "aef3e5c0-804f-4288-855b-80d853551bec",
   "metadata": {},
   "source": [
    "SALES BY PAYMENT MODE"
   ]
  },
  {
   "cell_type": "code",
   "execution_count": 34,
   "id": "4ce486fa-905b-4f0a-9e95-e9d88790537e",
   "metadata": {},
   "outputs": [
    {
     "name": "stdout",
     "output_type": "stream",
     "text": [
      "   PaymentMode  Number_of_Orders  Total_Sales\n",
      "0          COD               206      1141790\n",
      "1  Credit Card               258      1281044\n",
      "2   Debit Card               260      1395035\n",
      "3          EMI               218      1114297\n",
      "4          UPI               252      1250473\n"
     ]
    }
   ],
   "source": [
    "query5=\"\"\"  SELECT PaymentMode, COUNT(*) AS Number_of_Orders, SUM(Amount) AS Total_Sales\n",
    "FROM Sales_data\n",
    "GROUP BY PaymentMode \"\"\"\n",
    "print(pd.read_sql_query(query5,conn))"
   ]
  },
  {
   "cell_type": "markdown",
   "id": "ee04cc41-09bd-4287-92db-8790c8b92944",
   "metadata": {},
   "source": [
    "GRAPH OF REVENUE BY PRODUCT"
   ]
  },
  {
   "cell_type": "code",
   "execution_count": 51,
   "id": "682e7135-5803-4f83-a2ff-b7fb25c979b3",
   "metadata": {},
   "outputs": [
    {
     "data": {
      "image/png": "[encoded data removed]",
      "text/plain": [
       "<Figure size 800x600 with 1 Axes>"
      ]
     },
     "metadata": {},
     "output_type": "display_data"
    },
    {
     "data": {
      "text/plain": [
       "<Figure size 640x480 with 0 Axes>"
      ]
     },
     "metadata": {},
     "output_type": "display_data"
    }
   ],
   "source": [
    "Sales_by_category=df.groupby(\"Sub-Category\")[\"Amount\"].sum().reset_index()\n",
    "Sales_by_category.rename(columns={\"Sub-Category\":\"sub-category\",\"Amount\":\"revenue\"},inplace=True)\n",
    "ax = Sales_by_category.plot(kind='bar', x='sub-category', y='revenue', figsize=(8,6), legend=False, color=\"green\")\n",
    "plt.title(\"Revenue by Category\")\n",
    "plt.xlabel(\"Category\")\n",
    "plt.ylabel(\"Revenue\")\n",
    "plt.tight_layout()\n",
    "plt.show()\n",
    "plt.savefig(\"sales_category_chart.png\")"
   ]
  },
  {
   "cell_type": "code",
   "execution_count": null,
   "id": "fe4a4f22-3fc5-4253-aeb4-4849432087a7",
   "metadata": {},
   "outputs": [],
   "source": []
  },
  {
   "cell_type": "code",
   "execution_count": null,
   "id": "5fd629e1-1fb4-4a93-9628-0f871613d093",
   "metadata": {},
   "outputs": [],
   "source": []
  },
  {
   "cell_type": "code",
   "execution_count": null,
   "id": "11f1d264-102b-4976-84ab-8320e8bff20b",
   "metadata": {},
   "outputs": [],
   "source": []
  }
 ],
 "metadata": {
  "kernelspec": {
   "display_name": "Python 3 (ipykernel)",
   "language": "python",
   "name": "python3"
  },
  "language_info": {
   "codemirror_mode": {
    "name": "ipython",
    "version": 3
   },
   "file_extension": ".py",
   "mimetype": "text/x-python",
   "name": "python",
   "nbconvert_exporter": "python",
   "pygments_lexer": "ipython3",
   "version": "3.13.3"
  }
 },
 "nbformat": 4,
 "nbformat_minor": 5
}
